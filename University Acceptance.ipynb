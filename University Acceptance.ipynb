{
 "cells": [
  {
   "cell_type": "code",
   "execution_count": 52,
   "id": "e9be53ba",
   "metadata": {},
   "outputs": [
    {
     "data": {
      "text/html": [
       "<div>\n",
       "<style scoped>\n",
       "    .dataframe tbody tr th:only-of-type {\n",
       "        vertical-align: middle;\n",
       "    }\n",
       "\n",
       "    .dataframe tbody tr th {\n",
       "        vertical-align: top;\n",
       "    }\n",
       "\n",
       "    .dataframe thead th {\n",
       "        text-align: right;\n",
       "    }\n",
       "</style>\n",
       "<table border=\"1\" class=\"dataframe\">\n",
       "  <thead>\n",
       "    <tr style=\"text-align: right;\">\n",
       "      <th></th>\n",
       "      <th>GRE Score</th>\n",
       "      <th>TOEFL Score</th>\n",
       "      <th>University Rating</th>\n",
       "      <th>SOP</th>\n",
       "      <th>LOR</th>\n",
       "      <th>CGPA</th>\n",
       "      <th>Research</th>\n",
       "      <th>Chance of Admit</th>\n",
       "    </tr>\n",
       "  </thead>\n",
       "  <tbody>\n",
       "    <tr>\n",
       "      <th>0</th>\n",
       "      <td>337</td>\n",
       "      <td>118</td>\n",
       "      <td>4</td>\n",
       "      <td>4.5</td>\n",
       "      <td>4.5</td>\n",
       "      <td>9.65</td>\n",
       "      <td>1</td>\n",
       "      <td>0.92</td>\n",
       "    </tr>\n",
       "    <tr>\n",
       "      <th>1</th>\n",
       "      <td>324</td>\n",
       "      <td>107</td>\n",
       "      <td>4</td>\n",
       "      <td>4.0</td>\n",
       "      <td>4.5</td>\n",
       "      <td>8.87</td>\n",
       "      <td>1</td>\n",
       "      <td>0.76</td>\n",
       "    </tr>\n",
       "    <tr>\n",
       "      <th>2</th>\n",
       "      <td>316</td>\n",
       "      <td>104</td>\n",
       "      <td>3</td>\n",
       "      <td>3.0</td>\n",
       "      <td>3.5</td>\n",
       "      <td>8.00</td>\n",
       "      <td>1</td>\n",
       "      <td>0.72</td>\n",
       "    </tr>\n",
       "    <tr>\n",
       "      <th>3</th>\n",
       "      <td>322</td>\n",
       "      <td>110</td>\n",
       "      <td>3</td>\n",
       "      <td>3.5</td>\n",
       "      <td>2.5</td>\n",
       "      <td>8.67</td>\n",
       "      <td>1</td>\n",
       "      <td>0.80</td>\n",
       "    </tr>\n",
       "    <tr>\n",
       "      <th>4</th>\n",
       "      <td>314</td>\n",
       "      <td>103</td>\n",
       "      <td>2</td>\n",
       "      <td>2.0</td>\n",
       "      <td>3.0</td>\n",
       "      <td>8.21</td>\n",
       "      <td>0</td>\n",
       "      <td>0.65</td>\n",
       "    </tr>\n",
       "  </tbody>\n",
       "</table>\n",
       "</div>"
      ],
      "text/plain": [
       "   GRE Score  TOEFL Score  University Rating  SOP  LOR  CGPA  Research  \\\n",
       "0        337          118                  4  4.5  4.5  9.65         1   \n",
       "1        324          107                  4  4.0  4.5  8.87         1   \n",
       "2        316          104                  3  3.0  3.5  8.00         1   \n",
       "3        322          110                  3  3.5  2.5  8.67         1   \n",
       "4        314          103                  2  2.0  3.0  8.21         0   \n",
       "\n",
       "   Chance of Admit  \n",
       "0             0.92  \n",
       "1             0.76  \n",
       "2             0.72  \n",
       "3             0.80  \n",
       "4             0.65  "
      ]
     },
     "execution_count": 52,
     "metadata": {},
     "output_type": "execute_result"
    }
   ],
   "source": [
    "import pandas as pd\n",
    "df=pd.read_csv(\"Book1.csv\",skiprows=0)\n",
    "df=df.drop(['Serial No.'],axis=1)\n",
    "df.head()"
   ]
  },
  {
   "cell_type": "code",
   "execution_count": 53,
   "id": "adc511ac",
   "metadata": {},
   "outputs": [
    {
     "name": "stdout",
     "output_type": "stream",
     "text": [
      "<class 'pandas.core.frame.DataFrame'>\n",
      "RangeIndex: 400 entries, 0 to 399\n",
      "Data columns (total 8 columns):\n",
      " #   Column             Non-Null Count  Dtype  \n",
      "---  ------             --------------  -----  \n",
      " 0   GRE Score          400 non-null    int64  \n",
      " 1   TOEFL Score        400 non-null    int64  \n",
      " 2   University Rating  400 non-null    int64  \n",
      " 3   SOP                400 non-null    float64\n",
      " 4   LOR                400 non-null    float64\n",
      " 5   CGPA               400 non-null    float64\n",
      " 6   Research           400 non-null    int64  \n",
      " 7   Chance of Admit    400 non-null    float64\n",
      "dtypes: float64(4), int64(4)\n",
      "memory usage: 25.1 KB\n"
     ]
    }
   ],
   "source": [
    "#look at the columns and their datatypes\n",
    "df.info()"
   ]
  },
  {
   "cell_type": "code",
   "execution_count": 54,
   "id": "89b215c9",
   "metadata": {},
   "outputs": [
    {
     "data": {
      "text/plain": [
       "GRE Score            0\n",
       "TOEFL Score          0\n",
       "University Rating    0\n",
       "SOP                  0\n",
       "LOR                  0\n",
       "CGPA                 0\n",
       "Research             0\n",
       "Chance of Admit      0\n",
       "dtype: int64"
      ]
     },
     "execution_count": 54,
     "metadata": {},
     "output_type": "execute_result"
    }
   ],
   "source": [
    "#we are gonna check if there are any null values with isnull() method\n",
    "df.isnull().sum()"
   ]
  },
  {
   "cell_type": "code",
   "execution_count": 55,
   "id": "d1dcf6b0",
   "metadata": {},
   "outputs": [],
   "source": [
    "from sklearn.model_selection import train_test_split\n",
    "from sklearn.linear_model import LinearRegression### Seperating the dataframe for x and y values - Independent and dependent values"
   ]
  },
  {
   "cell_type": "markdown",
   "id": "28719ec8",
   "metadata": {},
   "source": [
    "### Seperating the dataframe for x and y values - Independent and dependent values"
   ]
  },
  {
   "cell_type": "code",
   "execution_count": 56,
   "id": "c549b6fa",
   "metadata": {},
   "outputs": [],
   "source": [
    "\n",
    "x=df.iloc[:,:-1]\n",
    "x.head()\n",
    "y=df.iloc[:,-1]"
   ]
  },
  {
   "cell_type": "markdown",
   "id": "89566472",
   "metadata": {},
   "source": [
    "#### Now with this, we have x- predictor variables  and y- predictand values"
   ]
  },
  {
   "cell_type": "markdown",
   "id": "8de6d0a7",
   "metadata": {},
   "source": [
    "### Now, I'm going to see the correlation between x and y values."
   ]
  },
  {
   "cell_type": "markdown",
   "id": "d63e4f65",
   "metadata": {},
   "source": [
    "*using whole dataframe*"
   ]
  },
  {
   "cell_type": "code",
   "execution_count": 57,
   "id": "2cd62c40",
   "metadata": {
    "scrolled": false
   },
   "outputs": [
    {
     "data": {
      "text/plain": [
       "<AxesSubplot:>"
      ]
     },
     "execution_count": 57,
     "metadata": {},
     "output_type": "execute_result"
    },
    {
     "data": {
      "image/png": "[encoded data removed]",
      "text/plain": [
       "<Figure size 432x288 with 2 Axes>"
      ]
     },
     "metadata": {
      "needs_background": "light"
     },
     "output_type": "display_data"
    }
   ],
   "source": [
    "import matplotlib.pyplot as plt\n",
    "import seaborn as sns\n",
    "sns.heatmap(df.corr(),annot=True)"
   ]
  },
  {
   "cell_type": "markdown",
   "id": "5eaffd29",
   "metadata": {},
   "source": [
    "#### Clearly, we can see that CGPA and Chance of Admit has highest correlation value- 0.87. \n",
    "#### The least correlation is with Research and Chance of Admit- 0.55.  so, we are gonna drop this column for better results"
   ]
  },
  {
   "cell_type": "code",
   "execution_count": 58,
   "id": "bd194a11",
   "metadata": {
    "scrolled": true
   },
   "outputs": [
    {
     "data": {
      "text/html": [
       "<div>\n",
       "<style scoped>\n",
       "    .dataframe tbody tr th:only-of-type {\n",
       "        vertical-align: middle;\n",
       "    }\n",
       "\n",
       "    .dataframe tbody tr th {\n",
       "        vertical-align: top;\n",
       "    }\n",
       "\n",
       "    .dataframe thead th {\n",
       "        text-align: right;\n",
       "    }\n",
       "</style>\n",
       "<table border=\"1\" class=\"dataframe\">\n",
       "  <thead>\n",
       "    <tr style=\"text-align: right;\">\n",
       "      <th></th>\n",
       "      <th>GRE Score</th>\n",
       "      <th>TOEFL Score</th>\n",
       "      <th>University Rating</th>\n",
       "      <th>SOP</th>\n",
       "      <th>LOR</th>\n",
       "      <th>CGPA</th>\n",
       "    </tr>\n",
       "  </thead>\n",
       "  <tbody>\n",
       "    <tr>\n",
       "      <th>0</th>\n",
       "      <td>337</td>\n",
       "      <td>118</td>\n",
       "      <td>4</td>\n",
       "      <td>4.5</td>\n",
       "      <td>4.5</td>\n",
       "      <td>9.65</td>\n",
       "    </tr>\n",
       "    <tr>\n",
       "      <th>1</th>\n",
       "      <td>324</td>\n",
       "      <td>107</td>\n",
       "      <td>4</td>\n",
       "      <td>4.0</td>\n",
       "      <td>4.5</td>\n",
       "      <td>8.87</td>\n",
       "    </tr>\n",
       "    <tr>\n",
       "      <th>2</th>\n",
       "      <td>316</td>\n",
       "      <td>104</td>\n",
       "      <td>3</td>\n",
       "      <td>3.0</td>\n",
       "      <td>3.5</td>\n",
       "      <td>8.00</td>\n",
       "    </tr>\n",
       "    <tr>\n",
       "      <th>3</th>\n",
       "      <td>322</td>\n",
       "      <td>110</td>\n",
       "      <td>3</td>\n",
       "      <td>3.5</td>\n",
       "      <td>2.5</td>\n",
       "      <td>8.67</td>\n",
       "    </tr>\n",
       "    <tr>\n",
       "      <th>4</th>\n",
       "      <td>314</td>\n",
       "      <td>103</td>\n",
       "      <td>2</td>\n",
       "      <td>2.0</td>\n",
       "      <td>3.0</td>\n",
       "      <td>8.21</td>\n",
       "    </tr>\n",
       "  </tbody>\n",
       "</table>\n",
       "</div>"
      ],
      "text/plain": [
       "   GRE Score  TOEFL Score  University Rating  SOP  LOR  CGPA\n",
       "0        337          118                  4  4.5  4.5  9.65\n",
       "1        324          107                  4  4.0  4.5  8.87\n",
       "2        316          104                  3  3.0  3.5  8.00\n",
       "3        322          110                  3  3.5  2.5  8.67\n",
       "4        314          103                  2  2.0  3.0  8.21"
      ]
     },
     "execution_count": 58,
     "metadata": {},
     "output_type": "execute_result"
    }
   ],
   "source": [
    "x.head()\n",
    "x=x.drop([\"Research\"],axis=1)\n",
    "x.head()"
   ]
  },
  {
   "cell_type": "markdown",
   "id": "ddcd0b02",
   "metadata": {},
   "source": [
    "### Splitting Data for our Model"
   ]
  },
  {
   "cell_type": "code",
   "execution_count": 59,
   "id": "fdd040f3",
   "metadata": {},
   "outputs": [
    {
     "name": "stdout",
     "output_type": "stream",
     "text": [
      "     GRE Score  TOEFL Score  University Rating  SOP  LOR  CGPA\n",
      "25         340          120                  5  4.5  4.5  9.60\n",
      "191        323          110                  5  4.0  5.0  8.98\n",
      "311        328          108                  4  4.5  4.0  9.18\n",
      "260        327          108                  5  5.0  3.5  9.13\n",
      "373        321          109                  3  3.0  3.0  8.54\n",
      "25     0.94\n",
      "191    0.87\n",
      "311    0.84\n",
      "260    0.87\n",
      "373    0.79\n",
      "Name: Chance of Admit, dtype: float64\n",
      "<class 'pandas.core.series.Series'>\n",
      "Int64Index: 320 entries, 25 to 236\n",
      "Series name: Chance of Admit\n",
      "Non-Null Count  Dtype  \n",
      "--------------  -----  \n",
      "320 non-null    float64\n",
      "dtypes: float64(1)\n",
      "memory usage: 5.0 KB\n",
      "None\n"
     ]
    }
   ],
   "source": [
    "\n",
    "x_train,x_test,y_train,y_test=train_test_split(x,y,test_size=0.2) # this 0.2 value splits whole data into 20% test dataset \n",
    "# and 80% train dataset\n",
    "print(x_train.head())\n",
    "print(y_train.head())\n",
    "print(y_train.info())"
   ]
  },
  {
   "cell_type": "code",
   "execution_count": 60,
   "id": "65a50f79",
   "metadata": {},
   "outputs": [],
   "source": [
    "model=LinearRegression()\n",
    "model_fit=model.fit(x_train,y_train)"
   ]
  },
  {
   "cell_type": "code",
   "execution_count": 61,
   "id": "e77aa668",
   "metadata": {
    "scrolled": true
   },
   "outputs": [
    {
     "name": "stderr",
     "output_type": "stream",
     "text": [
      "C:\\Users\\Surekha\\anaconda3\\lib\\site-packages\\sklearn\\base.py:450: UserWarning: X does not have valid feature names, but LinearRegression was fitted with feature names\n",
      "  warnings.warn(\n"
     ]
    }
   ],
   "source": [
    "y_pred=model_fit.predict(x_test.values)"
   ]
  },
  {
   "cell_type": "markdown",
   "id": "cd506014",
   "metadata": {},
   "source": [
    "### we should now , check the score"
   ]
  },
  {
   "cell_type": "code",
   "execution_count": 62,
   "id": "a308cb86",
   "metadata": {},
   "outputs": [],
   "source": [
    "from sklearn.metrics import confusion_matrix,accuracy_score\n",
    "\n",
    "score=model_fit.score(x_test, y_test)"
   ]
  },
  {
   "cell_type": "code",
   "execution_count": 63,
   "id": "245c8fb6",
   "metadata": {},
   "outputs": [
    {
     "name": "stdout",
     "output_type": "stream",
     "text": [
      "Score= 0.8016558500024493\n",
      "Error= 0.004733975900939197\n"
     ]
    }
   ],
   "source": [
    "from sklearn.metrics import mean_squared_error\n",
    "# Calculation of Mean Squared Error (MSE)\n",
    "error=mean_squared_error(y_test,y_pred)\n",
    "print(\"Score=\",score)\n",
    "print(\"Error=\",error)"
   ]
  },
  {
   "cell_type": "markdown",
   "id": "cebb3c02",
   "metadata": {},
   "source": [
    "### So, Mean Square Error is 0.004 percent\n",
    "\n",
    "\n",
    "## Now, Let's do Principal Component Analysis"
   ]
  },
  {
   "cell_type": "code",
   "execution_count": 64,
   "id": "904ad4ea",
   "metadata": {},
   "outputs": [
    {
     "name": "stdout",
     "output_type": "stream",
     "text": [
      "<class 'pandas.core.frame.DataFrame'>\n",
      "RangeIndex: 400 entries, 0 to 399\n",
      "Data columns (total 6 columns):\n",
      " #   Column             Non-Null Count  Dtype  \n",
      "---  ------             --------------  -----  \n",
      " 0   GRE Score          400 non-null    int64  \n",
      " 1   TOEFL Score        400 non-null    int64  \n",
      " 2   University Rating  400 non-null    int64  \n",
      " 3   SOP                400 non-null    float64\n",
      " 4   LOR                400 non-null    float64\n",
      " 5   CGPA               400 non-null    float64\n",
      "dtypes: float64(3), int64(3)\n",
      "memory usage: 18.8 KB\n",
      "[0.936, 0.054, 0.007, 0.002, 0.001, 0.0]\n"
     ]
    }
   ],
   "source": [
    "from sklearn.decomposition import PCA\n",
    "pca=PCA()\n",
    "data=pca.fit_transform(x)\n",
    "x.info()\n",
    "var=pca.explained_variance_ratio_\n",
    "var=[round(i,3) for i in var]\n",
    "print(var)"
   ]
  },
  {
   "cell_type": "code",
   "execution_count": 65,
   "id": "c6ec2854",
   "metadata": {
    "scrolled": false
   },
   "outputs": [
    {
     "name": "stdout",
     "output_type": "stream",
     "text": [
      "   GRE Score  CGPA\n",
      "0        337  9.65\n",
      "1        324  8.87\n",
      "2        316  8.00\n",
      "3        322  8.67\n",
      "4        314  8.21\n"
     ]
    }
   ],
   "source": [
    "new_x=x[[\"GRE Score\",\"CGPA\"]]\n",
    "print(new_x.head())\n"
   ]
  },
  {
   "cell_type": "markdown",
   "id": "4dee488b",
   "metadata": {},
   "source": [
    "##### Again, splitting the dataset into train and test variables"
   ]
  },
  {
   "cell_type": "code",
   "execution_count": 66,
   "id": "4a59b403",
   "metadata": {},
   "outputs": [
    {
     "name": "stdout",
     "output_type": "stream",
     "text": [
      "     GRE Score  CGPA\n",
      "398        312  8.78\n",
      "47         339  9.70\n",
      "155        312  8.69\n",
      "208        305  8.16\n",
      "71         336  9.76\n",
      "398    0.67\n",
      "47     0.89\n",
      "155    0.77\n",
      "208    0.64\n",
      "71     0.96\n",
      "Name: Chance of Admit, dtype: float64\n"
     ]
    }
   ],
   "source": [
    "newx_train,newx_test,newy_train,newy_test=train_test_split(new_x,y,test_size=0.2)\n",
    "print(newx_train.head())\n",
    "print(newy_train.head())"
   ]
  },
  {
   "cell_type": "code",
   "execution_count": 67,
   "id": "5abaf833",
   "metadata": {},
   "outputs": [
    {
     "data": {
      "text/plain": [
       "LinearRegression()"
      ]
     },
     "execution_count": 67,
     "metadata": {},
     "output_type": "execute_result"
    }
   ],
   "source": [
    "classifier = LinearRegression()\n",
    "classifier.fit(newx_train, newy_train)"
   ]
  },
  {
   "cell_type": "code",
   "execution_count": 68,
   "id": "1990ee03",
   "metadata": {},
   "outputs": [],
   "source": [
    "newy_pred = classifier.predict(newx_test)"
   ]
  },
  {
   "cell_type": "markdown",
   "id": "d64f4f10",
   "metadata": {},
   "source": [
    "## We have predicted new y values. now let's see the score of it"
   ]
  },
  {
   "cell_type": "code",
   "execution_count": 69,
   "id": "257e4962",
   "metadata": {},
   "outputs": [
    {
     "name": "stdout",
     "output_type": "stream",
     "text": [
      "0.7848935026067908\n"
     ]
    }
   ],
   "source": [
    "score2=classifier.score(newx_test, newy_test)\n",
    "print(score2)"
   ]
  },
  {
   "cell_type": "code",
   "execution_count": 70,
   "id": "5a13bc41",
   "metadata": {},
   "outputs": [],
   "source": [
    "# I got 83% which is better than the score before"
   ]
  },
  {
   "cell_type": "code",
   "execution_count": 71,
   "id": "ced6cad0",
   "metadata": {
    "scrolled": true
   },
   "outputs": [
    {
     "data": {
      "text/plain": [
       "<seaborn.axisgrid.FacetGrid at 0xe93c988>"
      ]
     },
     "execution_count": 71,
     "metadata": {},
     "output_type": "execute_result"
    },
    {
     "data": {
      "text/plain": [
       "<Figure size 360x504 with 0 Axes>"
      ]
     },
     "metadata": {},
     "output_type": "display_data"
    },
    {
     "data": {
      "image/png": "[encoded data removed]",
      "text/plain": [
       "<Figure size 450.75x360 with 1 Axes>"
      ]
     },
     "metadata": {
      "needs_background": "light"
     },
     "output_type": "display_data"
    }
   ],
   "source": [
    "fig = plt.figure(figsize=(5,7))\n",
    "\n",
    "\n",
    "sns.relplot(x=new_x[\"GRE Score\"],y=new_x[\"CGPA\"],hue=y,palette=\"Blues\")\n"
   ]
  },
  {
   "cell_type": "markdown",
   "id": "8a435533",
   "metadata": {},
   "source": [
    "### From the Plot above, we can see that the chance to getting into University is Higher if GRE and CGPA are high values\n",
    "\n",
    "## Now, new Mean Square Error is"
   ]
  },
  {
   "cell_type": "code",
   "execution_count": 72,
   "id": "82ee35b7",
   "metadata": {
    "scrolled": true
   },
   "outputs": [
    {
     "name": "stdout",
     "output_type": "stream",
     "text": [
      "0.00503585821047242\n"
     ]
    }
   ],
   "source": [
    "newerror=mean_squared_error(newy_test,newy_pred)\n",
    "print(newerror)"
   ]
  },
  {
   "cell_type": "markdown",
   "id": "ec11204d",
   "metadata": {},
   "source": [
    "\n",
    "## We got new error= 0.003 percent which is lower than the previous error\n",
    "\n",
    "# So, Clearly, Model that was created using PCA is performing Better than the previous model.\n",
    "\n",
    "### because we got accuracy higher and Mean Square Error lower"
   ]
  },
  {
   "cell_type": "code",
   "execution_count": 73,
   "id": "2d4c3255",
   "metadata": {},
   "outputs": [
    {
     "name": "stdout",
     "output_type": "stream",
     "text": [
      "New Score= 80.16558500024493\n",
      "New Error= 0.5035858210472419\n"
     ]
    }
   ],
   "source": [
    "print(\"New Score=\",score*100)\n",
    "print(\"New Error=\",newerror*100)"
   ]
  },
  {
   "cell_type": "code",
   "execution_count": null,
   "id": "bb51a09a",
   "metadata": {},
   "outputs": [],
   "source": []
  }
 ],
 "metadata": {
  "kernelspec": {
   "display_name": "Python 3 (ipykernel)",
   "language": "python",
   "name": "python3"
  },
  "language_info": {
   "codemirror_mode": {
    "name": "ipython",
    "version": 3
   },
   "file_extension": ".py",
   "mimetype": "text/x-python",
   "name": "python",
   "nbconvert_exporter": "python",
   "pygments_lexer": "ipython3",
   "version": "3.9.12"
  }
 },
 "nbformat": 4,
 "nbformat_minor": 5
}
