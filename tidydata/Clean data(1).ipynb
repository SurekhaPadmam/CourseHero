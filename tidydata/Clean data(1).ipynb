{
 "cells": [
  {
   "cell_type": "code",
   "execution_count": 1,
   "id": "70869b2f",
   "metadata": {},
   "outputs": [],
   "source": [
    "import numpy as np\n",
    "import pandas as pd"
   ]
  },
  {
   "cell_type": "markdown",
   "id": "8cde6812",
   "metadata": {},
   "source": [
    "### Loading CSV file data into data variable"
   ]
  },
  {
   "cell_type": "code",
   "execution_count": 12,
   "id": "9d0ddcbc",
   "metadata": {
    "scrolled": false
   },
   "outputs": [
    {
     "name": "stdout",
     "output_type": "stream",
     "text": [
      "                                                text      player\n",
      "0      I thought the King had more affected the Duke        KENT\n",
      "1                           of Albany than Cornwall.        KENT\n",
      "2            It did always seem so to us, but now in  GLOUCESTER\n",
      "3  the division of the kingdom, for equalities ar...  GLOUCESTER\n",
      "4  weighed that curiosity in neither can make choice  GLOUCESTER\n"
     ]
    }
   ],
   "source": [
    "# First we are reading the Data\n",
    "data=pd.read_csv(\"Book2.csv\")\n",
    "print(data.head())"
   ]
  },
  {
   "cell_type": "markdown",
   "id": "0ded4367",
   "metadata": {},
   "source": [
    "### Adding another column \"len\" which indicates length of each text"
   ]
  },
  {
   "cell_type": "code",
   "execution_count": 13,
   "id": "033b763b",
   "metadata": {},
   "outputs": [
    {
     "name": "stdout",
     "output_type": "stream",
     "text": [
      "                                                text      player  len\n",
      "0      I thought the King had more affected the Duke        KENT   45\n",
      "1                           of Albany than Cornwall.        KENT   24\n",
      "2            It did always seem so to us, but now in  GLOUCESTER   40\n",
      "3  the division of the kingdom, for equalities ar...  GLOUCESTER   50\n",
      "4  weighed that curiosity in neither can make choice  GLOUCESTER   49\n"
     ]
    }
   ],
   "source": [
    "data['len']=data['text'].apply(lambda x: len(x))\n",
    "print(data.head())\n",
    "\n"
   ]
  },
  {
   "cell_type": "code",
   "execution_count": 14,
   "id": "f16d5ed1",
   "metadata": {},
   "outputs": [
    {
     "name": "stdout",
     "output_type": "stream",
     "text": [
      "I thought the King had more affected the Duke -- 45\n",
      "of Albany than Cornwall. -- 24\n"
     ]
    }
   ],
   "source": [
    "# to verify the values are correct or not, let's try doing a manual check\n",
    "print(data[\"text\"][0],\"--\", len(data[\"text\"][0]))\n",
    "print(data[\"text\"][1],\"--\", len(data[\"text\"][1]))\n",
    "# values are same. so let's continue cleaning the text data"
   ]
  },
  {
   "cell_type": "markdown",
   "id": "7fbccce5",
   "metadata": {},
   "source": [
    "### Cleaning the data"
   ]
  },
  {
   "cell_type": "code",
   "execution_count": 15,
   "id": "3c07daef",
   "metadata": {
    "scrolled": true
   },
   "outputs": [
    {
     "name": "stdout",
     "output_type": "stream",
     "text": [
      "                                                text      player  len\n",
      "0      I thought the King had more affected the Duke        KENT   45\n",
      "1                           of Albany than Cornwall.        KENT   24\n",
      "2            It did always seem so to us, but now in  GLOUCESTER   39\n",
      "3  the division of the kingdom, for equalities ar...  GLOUCESTER   50\n",
      "4  weighed that curiosity in neither can make choice  GLOUCESTER   49\n"
     ]
    }
   ],
   "source": [
    "data['text']=data['text'].apply(lambda x:x.strip())\n",
    "data['len']=data['text'].apply(lambda x: len(x))\n",
    "print(data.head())"
   ]
  },
  {
   "cell_type": "markdown",
   "id": "52ffac3f",
   "metadata": {},
   "source": [
    "#### I am assuming, tidying data means, performing data cleaning to the given text. "
   ]
  },
  {
   "cell_type": "markdown",
   "id": "f084f86f",
   "metadata": {},
   "source": [
    "### So removing punctuation marks, performing tokenization and  removing stopwords"
   ]
  },
  {
   "cell_type": "code",
   "execution_count": 16,
   "id": "60b8dc5a",
   "metadata": {},
   "outputs": [],
   "source": [
    "from string import punctuation\n",
    "from nltk.tokenize import word_tokenize\n",
    "from nltk.corpus import stopwords"
   ]
  },
  {
   "cell_type": "code",
   "execution_count": 17,
   "id": "3ed919bf",
   "metadata": {
    "scrolled": true
   },
   "outputs": [
    {
     "name": "stdout",
     "output_type": "stream",
     "text": [
      "puctuation marks are : \n",
      " !\"#$%&'()*+,-./:;<=>?@[\\]^_`{|}~\n",
      "                                                text      player  len\n",
      "0      I thought the King had more affected the Duke        KENT   45\n",
      "1                            of Albany than Cornwall        KENT   23\n",
      "2             It did always seem so to us but now in  GLOUCESTER   38\n",
      "3  the division of the kingdom for equalities are so  GLOUCESTER   49\n",
      "4  weighed that curiosity in neither can make choice  GLOUCESTER   49\n"
     ]
    }
   ],
   "source": [
    "print(\"puctuation marks are : \\n\",punctuation)\n",
    "def removepunct(x):\n",
    "    new=\"\"\n",
    "    for each in x:\n",
    "        if each not in punctuation:\n",
    "            new+= each\n",
    "    return new\n",
    "            \n",
    "data['text']=data['text'].apply(lambda x: removepunct(x))\n",
    "data['len']=data['text'].apply(lambda x: len(x))\n",
    "print(data.head())"
   ]
  },
  {
   "cell_type": "markdown",
   "id": "5ac2ea9a",
   "metadata": {},
   "source": [
    "### Now, let's perform tokenization. It splits text/strings into words."
   ]
  },
  {
   "cell_type": "code",
   "execution_count": 18,
   "id": "a369600e",
   "metadata": {
    "scrolled": true
   },
   "outputs": [
    {
     "name": "stdout",
     "output_type": "stream",
     "text": [
      "                                                text      player  len\n",
      "0  [I, thought, the, King, had, more, affected, t...        KENT    9\n",
      "1                       [of, Albany, than, Cornwall]        KENT    4\n",
      "2  [It, did, always, seem, so, to, us, but, now, in]  GLOUCESTER   10\n",
      "3  [the, division, of, the, kingdom, for, equalit...  GLOUCESTER    9\n",
      "4  [weighed, that, curiosity, in, neither, can, m...  GLOUCESTER    8\n"
     ]
    }
   ],
   "source": [
    "# see that we have removed .,? in text above, so len values have changed in 2,3,4 rows.\n",
    "#now,\n",
    "\n",
    "data['text']=data['text'].apply(lambda x: word_tokenize(x))\n",
    "data['len']=data['text'].apply(lambda x: len(x))\n",
    "print(data.head())\n"
   ]
  },
  {
   "cell_type": "markdown",
   "id": "951c69b2",
   "metadata": {},
   "source": [
    "### Lastly, let's remove frequently occuring stopwords"
   ]
  },
  {
   "cell_type": "code",
   "execution_count": 19,
   "id": "47700c26",
   "metadata": {},
   "outputs": [
    {
     "name": "stdout",
     "output_type": "stream",
     "text": [
      "                                          text      player  len\n",
      "0           [I, thought, King, affected, Duke]        KENT    5\n",
      "1                           [Albany, Cornwall]        KENT    2\n",
      "2                       [It, always, seem, us]  GLOUCESTER    4\n",
      "3              [division, kingdom, equalities]  GLOUCESTER    3\n",
      "4  [weighed, curiosity, neither, make, choice]  GLOUCESTER    5\n"
     ]
    }
   ],
   "source": [
    "stopw=stopwords.words('english')\n",
    "def removestopword(x):\n",
    "    l=[]\n",
    "    for each in x:\n",
    "        if each in stopw:\n",
    "            pass\n",
    "        else:\n",
    "            l.append(each)\n",
    "    return l\n",
    "            \n",
    "\n",
    "data['text']=data['text'].apply(lambda x: removestopword(x))\n",
    "data['len']=data['text'].apply(lambda x: len(x))\n",
    "print(data.head())"
   ]
  },
  {
   "cell_type": "code",
   "execution_count": 20,
   "id": "aaf5f304",
   "metadata": {},
   "outputs": [
    {
     "name": "stdout",
     "output_type": "stream",
     "text": [
      "                                          text      player\n",
      "0           [I, thought, King, affected, Duke]        KENT\n",
      "1                           [Albany, Cornwall]        KENT\n",
      "2                       [It, always, seem, us]  GLOUCESTER\n",
      "3              [division, kingdom, equalities]  GLOUCESTER\n",
      "4  [weighed, curiosity, neither, make, choice]  GLOUCESTER\n"
     ]
    }
   ],
   "source": [
    "### So, Finally text has been cleaned successfully. let's remove the length column\n",
    "data=data.drop(['len'],axis=1)\n",
    "print(data.head())"
   ]
  },
  {
   "cell_type": "code",
   "execution_count": null,
   "id": "9d783dfb",
   "metadata": {},
   "outputs": [],
   "source": []
  }
 ],
 "metadata": {
  "kernelspec": {
   "display_name": "Python 3 (ipykernel)",
   "language": "python",
   "name": "python3"
  },
  "language_info": {
   "codemirror_mode": {
    "name": "ipython",
    "version": 3
   },
   "file_extension": ".py",
   "mimetype": "text/x-python",
   "name": "python",
   "nbconvert_exporter": "python",
   "pygments_lexer": "ipython3",
   "version": "3.9.12"
  }
 },
 "nbformat": 4,
 "nbformat_minor": 5
}
